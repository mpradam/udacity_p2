{
 "cells": [
  {
   "cell_type": "markdown",
   "metadata": {},
   "source": [
    "# ML Pipeline Preparation\n",
    "Follow the instructions below to help you create your ML pipeline.\n",
    "### 1. Import libraries and load data from database.\n",
    "- Import Python libraries\n",
    "- Load dataset from database with [`read_sql_table`](https://pandas.pydata.org/pandas-docs/stable/generated/pandas.read_sql_table.html)\n",
    "- Define feature and target variables X and Y"
   ]
  },
  {
   "cell_type": "code",
   "execution_count": 273,
   "metadata": {},
   "outputs": [
    {
     "output_type": "stream",
     "name": "stderr",
     "text": [
      "[nltk_data] Downloading package punkt to\n[nltk_data]     C:\\Users\\Administrador\\AppData\\Roaming\\nltk_data...\n[nltk_data]   Package punkt is already up-to-date!\n[nltk_data] Downloading package stopwords to\n[nltk_data]     C:\\Users\\Administrador\\AppData\\Roaming\\nltk_data...\n[nltk_data]   Package stopwords is already up-to-date!\n[nltk_data] Downloading package wordnet to\n[nltk_data]     C:\\Users\\Administrador\\AppData\\Roaming\\nltk_data...\n[nltk_data]   Package wordnet is already up-to-date!\n"
     ]
    }
   ],
   "source": [
    "# import libraries\n",
    "import pandas as pd\n",
    "from sqlalchemy import create_engine\n",
    "import re\n",
    "import nltk\n",
    "from nltk.tokenize import  word_tokenize\n",
    "from nltk.corpus import stopwords\n",
    "from nltk.stem.wordnet import WordNetLemmatizer\n",
    "from nltk import PorterStemmer\n",
    "import pickle\n",
    "\n",
    "\n",
    "nltk.download('punkt')\n",
    "nltk.download('stopwords')\n",
    "nltk.download('wordnet')\n",
    "\n",
    "\n",
    "from sklearn.pipeline import Pipeline\n",
    "from sklearn.ensemble import RandomForestClassifier\n",
    "from sklearn.feature_extraction.text import CountVectorizer, TfidfTransformer, TfidfVectorizer\n",
    "from sklearn.multioutput import MultiOutputClassifier\n",
    "from sklearn.model_selection import train_test_split\n",
    "from sklearn.metrics import confusion_matrix, classification_report, accuracy_score, precision_score, recall_score, f1_score\n",
    "from sklearn.base import BaseEstimator, TransformerMixin\n",
    "from sklearn.model_selection import GridSearchCV\n",
    "\n"
   ]
  },
  {
   "cell_type": "code",
   "execution_count": 215,
   "metadata": {},
   "outputs": [],
   "source": [
    "# load data from database\n",
    "engine = create_engine('sqlite:///Data/Disaster.db')\n",
    "df = pd.read_sql_table('T_Responses', engine)\n",
    "X = df['message']\n",
    "y = df.iloc[:,4:]"
   ]
  },
  {
   "cell_type": "markdown",
   "metadata": {},
   "source": [
    "### 2. Write a tokenization function to process your text data"
   ]
  },
  {
   "cell_type": "code",
   "execution_count": 216,
   "metadata": {},
   "outputs": [],
   "source": [
    "def tokenize(text):\n",
    "    '''\n",
    "    Thif function tokenizes a text after doing some data wrangling\n",
    "\n",
    "    1. Sets all the text in lower case\n",
    "    2. Removes punctuation\n",
    "    3. Tokenizes the text \n",
    "    4 Remove stop words\n",
    "    5. Does lemmatization of the words\n",
    "    6. Does stemmization of the words\n",
    "    \n",
    "    '''\n",
    "     #Lower case\n",
    "    text = text.lower()\n",
    "    #Removes puntuation\n",
    "    text = re.sub(r\"[^a-zA-Z0-9]\", \" \", text) \n",
    "    #Tokenizes\n",
    "    words = word_tokenize(text)\n",
    "    #Removes stopwords\n",
    "    words = [w for w in words if w not in stopwords.words(\"english\")]\n",
    "    #Lemmatizes\n",
    "    words = [WordNetLemmatizer().lemmatize(w) for w in words]\n",
    "    #Stemmizes\n",
    "    words= [PorterStemmer().stem(w) for w in words]\n",
    "\n",
    "    return words"
   ]
  },
  {
   "cell_type": "markdown",
   "metadata": {},
   "source": [
    "### 3. Build a machine learning pipeline\n",
    "This machine pipeline should take in the `message` column as input and output classification results on the other 36 categories in the dataset. You may find the [MultiOutputClassifier](http://scikit-learn.org/stable/modules/generated/sklearn.multioutput.MultiOutputClassifier.html) helpful for predicting multiple target variables."
   ]
  },
  {
   "cell_type": "code",
   "execution_count": 239,
   "metadata": {},
   "outputs": [],
   "source": [
    "pipeline = Pipeline([\n",
    "    ('vect', CountVectorizer(tokenizer=tokenize)),\n",
    "    ('tfidf', TfidfTransformer()),\n",
    "    ('clf', MultiOutputClassifier(RandomForestClassifier()))\n",
    "])"
   ]
  },
  {
   "cell_type": "markdown",
   "metadata": {},
   "source": [
    "### 4. Train pipeline\n",
    "- Split data into train and test sets\n",
    "- Train pipeline"
   ]
  },
  {
   "cell_type": "code",
   "execution_count": 263,
   "metadata": {},
   "outputs": [],
   "source": [
    "X_train, X_test, y_train, y_test = train_test_split(X, y, random_state = 321, test_size = 0.30)\n",
    "pipeline_fitted = pipeline.fit(X_train, y_train)"
   ]
  },
  {
   "cell_type": "markdown",
   "metadata": {},
   "source": [
    "### 5. Test your model\n",
    "Report the f1 score, precision and recall for each output category of the dataset. You can do this by iterating through the columns and calling sklearn's `classification_report` on each."
   ]
  },
  {
   "cell_type": "code",
   "execution_count": 264,
   "metadata": {},
   "outputs": [
    {
     "output_type": "stream",
     "name": "stdout",
     "text": [
      "                        precision    recall  f1-score   support\n\n               related       0.85      0.94      0.90      5992\n               request       0.84      0.48      0.61      1381\n                 offer       0.00      0.00      0.00        35\n           aid_related       0.77      0.68      0.72      3317\n          medical_help       0.65      0.07      0.12       636\n      medical_products       0.80      0.09      0.16       413\n     search_and_rescue       0.86      0.05      0.10       219\n              security       0.50      0.01      0.01       140\n              military       0.75      0.04      0.07       242\n                 water       0.88      0.37      0.53       481\n                  food       0.87      0.56      0.68       872\n               shelter       0.85      0.35      0.49       709\n              clothing       0.67      0.15      0.25       119\n                 money       1.00      0.01      0.02       189\n        missing_people       1.00      0.01      0.02        90\n              refugees       0.71      0.02      0.04       259\n                 death       0.89      0.11      0.19       363\n             other_aid       0.74      0.03      0.06      1024\ninfrastructure_related       0.00      0.00      0.00       513\n             transport       0.84      0.06      0.11       346\n             buildings       0.80      0.09      0.16       430\n           electricity       0.88      0.05      0.09       155\n                 tools       0.00      0.00      0.00        58\n             hospitals       0.00      0.00      0.00        87\n                 shops       0.00      0.00      0.00        36\n           aid_centers       0.00      0.00      0.00        93\n  other_infrastructure       0.00      0.00      0.00       346\n       weather_related       0.84      0.70      0.76      2205\n                floods       0.92      0.48      0.63       656\n                 storm       0.77      0.55      0.64       759\n                  fire       1.00      0.01      0.02        83\n            earthquake       0.90      0.79      0.84       713\n                  cold       0.92      0.07      0.14       164\n         other_weather       0.62      0.02      0.05       423\n         direct_report       0.79      0.36      0.49      1542\n\n             micro avg       0.83      0.52      0.64     25090\n             macro avg       0.65      0.20      0.25     25090\n          weighted avg       0.78      0.52      0.57     25090\n           samples avg       0.66      0.47      0.50     25090\n\n"
     ]
    }
   ],
   "source": [
    "y_prediction_test = pipeline_fitted.predict(X_test)\n",
    "print(classification_report(y_test.values, y_prediction_test, target_names=y.columns.values))"
   ]
  },
  {
   "cell_type": "markdown",
   "metadata": {},
   "source": [
    "### 6. Improve your model\n",
    "Use grid search to find better parameters. "
   ]
  },
  {
   "cell_type": "code",
   "execution_count": 249,
   "metadata": {},
   "outputs": [
    {
     "output_type": "execute_result",
     "data": {
      "text/plain": [
       "dict_keys(['memory', 'steps', 'verbose', 'vect', 'tfidf', 'clf', 'vect__analyzer', 'vect__binary', 'vect__decode_error', 'vect__dtype', 'vect__encoding', 'vect__input', 'vect__lowercase', 'vect__max_df', 'vect__max_features', 'vect__min_df', 'vect__ngram_range', 'vect__preprocessor', 'vect__stop_words', 'vect__strip_accents', 'vect__token_pattern', 'vect__tokenizer', 'vect__vocabulary', 'tfidf__norm', 'tfidf__smooth_idf', 'tfidf__sublinear_tf', 'tfidf__use_idf', 'clf__estimator__bootstrap', 'clf__estimator__ccp_alpha', 'clf__estimator__class_weight', 'clf__estimator__criterion', 'clf__estimator__max_depth', 'clf__estimator__max_features', 'clf__estimator__max_leaf_nodes', 'clf__estimator__max_samples', 'clf__estimator__min_impurity_decrease', 'clf__estimator__min_impurity_split', 'clf__estimator__min_samples_leaf', 'clf__estimator__min_samples_split', 'clf__estimator__min_weight_fraction_leaf', 'clf__estimator__n_estimators', 'clf__estimator__n_jobs', 'clf__estimator__oob_score', 'clf__estimator__random_state', 'clf__estimator__verbose', 'clf__estimator__warm_start', 'clf__estimator', 'clf__n_jobs'])"
      ]
     },
     "metadata": {},
     "execution_count": 249
    }
   ],
   "source": [
    "pipeline.get_params().keys()"
   ]
  },
  {
   "cell_type": "code",
   "execution_count": 266,
   "metadata": {},
   "outputs": [],
   "source": [
    "parameters = {\n",
    "        'clf__estimator__max_depth': [ 80, 90, 100],\n",
    "        'clf__estimator__n_estimators': [5, 10, 15]}\n",
    "\n",
    "cv = GridSearchCV(pipeline, param_grid=parameters, verbose=3)"
   ]
  },
  {
   "cell_type": "code",
   "execution_count": 267,
   "metadata": {},
   "outputs": [
    {
     "output_type": "stream",
     "name": "stdout",
     "text": [
      "Fitting 5 folds for each of 9 candidates, totalling 45 fits\n",
      "[CV] clf__estimator__max_depth=80, clf__estimator__n_estimators=5 ....\n",
      "[Parallel(n_jobs=1)]: Using backend SequentialBackend with 1 concurrent workers.\n",
      "[CV]  clf__estimator__max_depth=80, clf__estimator__n_estimators=5, score=0.182, total= 2.5min\n",
      "[CV] clf__estimator__max_depth=80, clf__estimator__n_estimators=5 ....\n",
      "[Parallel(n_jobs=1)]: Done   1 out of   1 | elapsed:  2.5min remaining:    0.0s\n",
      "[CV]  clf__estimator__max_depth=80, clf__estimator__n_estimators=5, score=0.193, total= 2.2min\n",
      "[CV] clf__estimator__max_depth=80, clf__estimator__n_estimators=5 ....\n",
      "[Parallel(n_jobs=1)]: Done   2 out of   2 | elapsed:  4.7min remaining:    0.0s\n",
      "[CV]  clf__estimator__max_depth=80, clf__estimator__n_estimators=5, score=0.189, total= 2.1min\n",
      "[CV] clf__estimator__max_depth=80, clf__estimator__n_estimators=5 ....\n",
      "[CV]  clf__estimator__max_depth=80, clf__estimator__n_estimators=5, score=0.193, total= 2.2min\n",
      "[CV] clf__estimator__max_depth=80, clf__estimator__n_estimators=5 ....\n",
      "[CV]  clf__estimator__max_depth=80, clf__estimator__n_estimators=5, score=0.184, total= 2.4min\n",
      "[CV] clf__estimator__max_depth=80, clf__estimator__n_estimators=10 ...\n",
      "[CV]  clf__estimator__max_depth=80, clf__estimator__n_estimators=10, score=0.204, total= 2.6min\n",
      "[CV] clf__estimator__max_depth=80, clf__estimator__n_estimators=10 ...\n",
      "[CV]  clf__estimator__max_depth=80, clf__estimator__n_estimators=10, score=0.207, total= 2.7min\n",
      "[CV] clf__estimator__max_depth=80, clf__estimator__n_estimators=10 ...\n",
      "[CV]  clf__estimator__max_depth=80, clf__estimator__n_estimators=10, score=0.195, total= 2.6min\n",
      "[CV] clf__estimator__max_depth=80, clf__estimator__n_estimators=10 ...\n",
      "[CV]  clf__estimator__max_depth=80, clf__estimator__n_estimators=10, score=0.195, total= 2.5min\n",
      "[CV] clf__estimator__max_depth=80, clf__estimator__n_estimators=10 ...\n",
      "[CV]  clf__estimator__max_depth=80, clf__estimator__n_estimators=10, score=0.196, total= 2.6min\n",
      "[CV] clf__estimator__max_depth=80, clf__estimator__n_estimators=15 ...\n",
      "[CV]  clf__estimator__max_depth=80, clf__estimator__n_estimators=15, score=0.212, total= 2.6min\n",
      "[CV] clf__estimator__max_depth=80, clf__estimator__n_estimators=15 ...\n",
      "[CV]  clf__estimator__max_depth=80, clf__estimator__n_estimators=15, score=0.220, total= 2.7min\n",
      "[CV] clf__estimator__max_depth=80, clf__estimator__n_estimators=15 ...\n",
      "[CV]  clf__estimator__max_depth=80, clf__estimator__n_estimators=15, score=0.203, total= 2.5min\n",
      "[CV] clf__estimator__max_depth=80, clf__estimator__n_estimators=15 ...\n",
      "[CV]  clf__estimator__max_depth=80, clf__estimator__n_estimators=15, score=0.213, total= 2.4min\n",
      "[CV] clf__estimator__max_depth=80, clf__estimator__n_estimators=15 ...\n",
      "[CV]  clf__estimator__max_depth=80, clf__estimator__n_estimators=15, score=0.197, total= 2.4min\n",
      "[CV] clf__estimator__max_depth=90, clf__estimator__n_estimators=5 ....\n",
      "[CV]  clf__estimator__max_depth=90, clf__estimator__n_estimators=5, score=0.195, total= 2.2min\n",
      "[CV] clf__estimator__max_depth=90, clf__estimator__n_estimators=5 ....\n",
      "[CV]  clf__estimator__max_depth=90, clf__estimator__n_estimators=5, score=0.202, total= 2.2min\n",
      "[CV] clf__estimator__max_depth=90, clf__estimator__n_estimators=5 ....\n",
      "[CV]  clf__estimator__max_depth=90, clf__estimator__n_estimators=5, score=0.190, total= 2.2min\n",
      "[CV] clf__estimator__max_depth=90, clf__estimator__n_estimators=5 ....\n",
      "[CV]  clf__estimator__max_depth=90, clf__estimator__n_estimators=5, score=0.189, total= 2.2min\n",
      "[CV] clf__estimator__max_depth=90, clf__estimator__n_estimators=5 ....\n",
      "[CV]  clf__estimator__max_depth=90, clf__estimator__n_estimators=5, score=0.199, total= 2.3min\n",
      "[CV] clf__estimator__max_depth=90, clf__estimator__n_estimators=10 ...\n",
      "[CV]  clf__estimator__max_depth=90, clf__estimator__n_estimators=10, score=0.205, total= 2.3min\n",
      "[CV] clf__estimator__max_depth=90, clf__estimator__n_estimators=10 ...\n",
      "[CV]  clf__estimator__max_depth=90, clf__estimator__n_estimators=10, score=0.223, total= 2.3min\n",
      "[CV] clf__estimator__max_depth=90, clf__estimator__n_estimators=10 ...\n",
      "[CV]  clf__estimator__max_depth=90, clf__estimator__n_estimators=10, score=0.201, total= 2.3min\n",
      "[CV] clf__estimator__max_depth=90, clf__estimator__n_estimators=10 ...\n",
      "[CV]  clf__estimator__max_depth=90, clf__estimator__n_estimators=10, score=0.198, total= 2.3min\n",
      "[CV] clf__estimator__max_depth=90, clf__estimator__n_estimators=10 ...\n",
      "[CV]  clf__estimator__max_depth=90, clf__estimator__n_estimators=10, score=0.197, total= 2.2min\n",
      "[CV] clf__estimator__max_depth=90, clf__estimator__n_estimators=15 ...\n",
      "[CV]  clf__estimator__max_depth=90, clf__estimator__n_estimators=15, score=0.223, total= 2.3min\n",
      "[CV] clf__estimator__max_depth=90, clf__estimator__n_estimators=15 ...\n",
      "[CV]  clf__estimator__max_depth=90, clf__estimator__n_estimators=15, score=0.223, total= 2.3min\n",
      "[CV] clf__estimator__max_depth=90, clf__estimator__n_estimators=15 ...\n",
      "[CV]  clf__estimator__max_depth=90, clf__estimator__n_estimators=15, score=0.206, total= 2.3min\n",
      "[CV] clf__estimator__max_depth=90, clf__estimator__n_estimators=15 ...\n",
      "[CV]  clf__estimator__max_depth=90, clf__estimator__n_estimators=15, score=0.216, total= 2.3min\n",
      "[CV] clf__estimator__max_depth=90, clf__estimator__n_estimators=15 ...\n",
      "[CV]  clf__estimator__max_depth=90, clf__estimator__n_estimators=15, score=0.209, total= 2.3min\n",
      "[CV] clf__estimator__max_depth=100, clf__estimator__n_estimators=5 ...\n",
      "[CV]  clf__estimator__max_depth=100, clf__estimator__n_estimators=5, score=0.204, total= 2.1min\n",
      "[CV] clf__estimator__max_depth=100, clf__estimator__n_estimators=5 ...\n",
      "[CV]  clf__estimator__max_depth=100, clf__estimator__n_estimators=5, score=0.194, total= 2.1min\n",
      "[CV] clf__estimator__max_depth=100, clf__estimator__n_estimators=5 ...\n",
      "[CV]  clf__estimator__max_depth=100, clf__estimator__n_estimators=5, score=0.184, total= 2.1min\n",
      "[CV] clf__estimator__max_depth=100, clf__estimator__n_estimators=5 ...\n",
      "[CV]  clf__estimator__max_depth=100, clf__estimator__n_estimators=5, score=0.182, total= 2.1min\n",
      "[CV] clf__estimator__max_depth=100, clf__estimator__n_estimators=5 ...\n",
      "[CV]  clf__estimator__max_depth=100, clf__estimator__n_estimators=5, score=0.192, total= 2.1min\n",
      "[CV] clf__estimator__max_depth=100, clf__estimator__n_estimators=10 ..\n",
      "[CV]  clf__estimator__max_depth=100, clf__estimator__n_estimators=10, score=0.215, total= 2.2min\n",
      "[CV] clf__estimator__max_depth=100, clf__estimator__n_estimators=10 ..\n",
      "[CV]  clf__estimator__max_depth=100, clf__estimator__n_estimators=10, score=0.214, total= 2.2min\n",
      "[CV] clf__estimator__max_depth=100, clf__estimator__n_estimators=10 ..\n",
      "[CV]  clf__estimator__max_depth=100, clf__estimator__n_estimators=10, score=0.210, total= 2.2min\n",
      "[CV] clf__estimator__max_depth=100, clf__estimator__n_estimators=10 ..\n",
      "[CV]  clf__estimator__max_depth=100, clf__estimator__n_estimators=10, score=0.206, total= 2.2min\n",
      "[CV] clf__estimator__max_depth=100, clf__estimator__n_estimators=10 ..\n",
      "[CV]  clf__estimator__max_depth=100, clf__estimator__n_estimators=10, score=0.205, total= 2.2min\n",
      "[CV] clf__estimator__max_depth=100, clf__estimator__n_estimators=15 ..\n",
      "[CV]  clf__estimator__max_depth=100, clf__estimator__n_estimators=15, score=0.215, total= 2.3min\n",
      "[CV] clf__estimator__max_depth=100, clf__estimator__n_estimators=15 ..\n",
      "[CV]  clf__estimator__max_depth=100, clf__estimator__n_estimators=15, score=0.225, total= 2.3min\n",
      "[CV] clf__estimator__max_depth=100, clf__estimator__n_estimators=15 ..\n",
      "[CV]  clf__estimator__max_depth=100, clf__estimator__n_estimators=15, score=0.210, total= 2.3min\n",
      "[CV] clf__estimator__max_depth=100, clf__estimator__n_estimators=15 ..\n",
      "[CV]  clf__estimator__max_depth=100, clf__estimator__n_estimators=15, score=0.227, total= 2.3min\n",
      "[CV] clf__estimator__max_depth=100, clf__estimator__n_estimators=15 ..\n",
      "[CV]  clf__estimator__max_depth=100, clf__estimator__n_estimators=15, score=0.199, total= 2.3min\n",
      "[Parallel(n_jobs=1)]: Done  45 out of  45 | elapsed: 104.2min finished\n"
     ]
    },
    {
     "output_type": "execute_result",
     "data": {
      "text/plain": [
       "GridSearchCV(estimator=Pipeline(steps=[('vect',\n",
       "                                        CountVectorizer(tokenizer=<function tokenize at 0x000001F98B4A19D0>)),\n",
       "                                       ('tfidf', TfidfTransformer()),\n",
       "                                       ('clf',\n",
       "                                        MultiOutputClassifier(estimator=RandomForestClassifier()))]),\n",
       "             param_grid={'clf__estimator__max_depth': [80, 90, 100],\n",
       "                         'clf__estimator__n_estimators': [5, 10, 15]},\n",
       "             verbose=3)"
      ]
     },
     "metadata": {},
     "execution_count": 267
    }
   ],
   "source": [
    "cv.fit(X_train, y_train)"
   ]
  },
  {
   "cell_type": "markdown",
   "metadata": {},
   "source": [
    "### 7. Test your model\n",
    "Show the accuracy, precision, and recall of the tuned model.  \n",
    "\n",
    "Since this project focuses on code quality, process, and  pipelines, there is no minimum performance metric needed to pass. However, make sure to fine tune your models for accuracy, precision and recall to make your project stand out - especially for your portfolio!"
   ]
  },
  {
   "cell_type": "code",
   "execution_count": 268,
   "metadata": {},
   "outputs": [
    {
     "output_type": "stream",
     "name": "stdout",
     "text": [
      "                        precision    recall  f1-score   support\n\n               related       0.80      0.98      0.88      5992\n               request       0.84      0.41      0.55      1381\n                 offer       0.00      0.00      0.00        35\n           aid_related       0.77      0.60      0.68      3317\n          medical_help       0.57      0.07      0.12       636\n      medical_products       0.80      0.07      0.12       413\n     search_and_rescue       0.75      0.04      0.08       219\n              security       0.00      0.00      0.00       140\n              military       0.74      0.11      0.19       242\n                 water       0.84      0.26      0.39       481\n                  food       0.89      0.39      0.54       872\n               shelter       0.85      0.23      0.36       709\n              clothing       0.72      0.24      0.36       119\n                 money       0.50      0.02      0.03       189\n        missing_people       1.00      0.01      0.02        90\n              refugees       0.73      0.04      0.08       259\n                 death       0.84      0.16      0.27       363\n             other_aid       0.87      0.02      0.04      1024\ninfrastructure_related       0.50      0.00      0.01       513\n             transport       0.79      0.08      0.14       346\n             buildings       0.79      0.08      0.14       430\n           electricity       0.50      0.02      0.04       155\n                 tools       0.00      0.00      0.00        58\n             hospitals       0.00      0.00      0.00        87\n                 shops       0.00      0.00      0.00        36\n           aid_centers       0.00      0.00      0.00        93\n  other_infrastructure       0.00      0.00      0.00       346\n       weather_related       0.86      0.57      0.69      2205\n                floods       0.90      0.31      0.47       656\n                 storm       0.79      0.33      0.47       759\n                  fire       0.86      0.07      0.13        83\n            earthquake       0.91      0.52      0.66       713\n                  cold       0.75      0.13      0.22       164\n         other_weather       0.38      0.01      0.03       423\n         direct_report       0.79      0.27      0.41      1542\n\n             micro avg       0.81      0.47      0.60     25090\n             macro avg       0.61      0.17      0.23     25090\n          weighted avg       0.77      0.47      0.52     25090\n           samples avg       0.69      0.45      0.50     25090\n\n"
     ]
    }
   ],
   "source": [
    "y_prediction_test = cv.predict(X_test)\n",
    "print(classification_report(y_test.values, y_prediction_test, target_names=y.columns.values))"
   ]
  },
  {
   "cell_type": "markdown",
   "metadata": {},
   "source": [
    "### 8. Try improving your model further. Here are a few ideas:\n",
    "* try other machine learning algorithms\n",
    "* add other features besides the TF-IDF"
   ]
  },
  {
   "cell_type": "code",
   "execution_count": 270,
   "metadata": {},
   "outputs": [
    {
     "output_type": "execute_result",
     "data": {
      "text/plain": [
       "{'clf__estimator__max_depth': 100, 'clf__estimator__n_estimators': 15}"
      ]
     },
     "metadata": {},
     "execution_count": 270
    }
   ],
   "source": [
    "cv.best_params_"
   ]
  },
  {
   "cell_type": "markdown",
   "metadata": {},
   "source": [
    "### 9. Export your model as a pickle file"
   ]
  },
  {
   "cell_type": "code",
   "execution_count": 274,
   "metadata": {},
   "outputs": [],
   "source": [
    "pickle.dump(cv.best_estimator_, open('classifier.pkl', 'wb'))"
   ]
  },
  {
   "cell_type": "markdown",
   "metadata": {},
   "source": [
    "### 10. Use this notebook to complete `train.py`\n",
    "Use the template file attached in the Resources folder to write a script that runs the steps above to create a database and export a model based on a new dataset specified by the user."
   ]
  },
  {
   "cell_type": "code",
   "execution_count": null,
   "metadata": {},
   "outputs": [],
   "source": []
  }
 ],
 "metadata": {
  "kernelspec": {
   "display_name": "Python 3",
   "language": "python",
   "name": "python3"
  },
  "language_info": {
   "codemirror_mode": {
    "name": "ipython",
    "version": 3
   },
   "file_extension": ".py",
   "mimetype": "text/x-python",
   "name": "python",
   "nbconvert_exporter": "python",
   "pygments_lexer": "ipython3",
   "version": "3.8.5-final"
  }
 },
 "nbformat": 4,
 "nbformat_minor": 2
}